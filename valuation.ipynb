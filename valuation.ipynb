{
 "cells": [
  {
   "cell_type": "code",
   "execution_count": 1,
   "id": "9de720fe-61f4-4e0b-bd41-3d3711f56f86",
   "metadata": {},
   "outputs": [],
   "source": [
    "from valuation_utils import dcf_value, multiple_of_earnings_value"
   ]
  },
  {
   "cell_type": "markdown",
   "id": "c01caed1-2a62-4bd8-a32e-37d30467bcbd",
   "metadata": {},
   "source": [
    "Lockheed Martin (LMT)"
   ]
  },
  {
   "cell_type": "code",
   "execution_count": 2,
   "id": "9c56ed15-2a63-4761-b40a-f6e4ddb5275f",
   "metadata": {},
   "outputs": [
    {
     "name": "stdout",
     "output_type": "stream",
     "text": [
      "the estimated DCF price for LMT is 477.2970780530386\n",
      "the ME prices for LMT are: low: 172.8745582337291, mid: 276.59929317396654, high: 518.6236747011873\n"
     ]
    }
   ],
   "source": [
    "ticker = 'LMT'\n",
    "\n",
    "starting_free_cash_flow = 6132.00\n",
    "initial_year_number = 5\n",
    "initial_growth_rate = 0.06\n",
    "later_growth_rate = 0.025\n",
    "permanent_growth_rate = 0.025\n",
    "discount_rate = 0.08\n",
    "cash_and_equivalents = 2547.00\n",
    "total_debt=15429.00\n",
    "outstanding_shares = 251.83\n",
    "\n",
    "price = dcf_value(starting_free_cash_flow=starting_free_cash_flow, \n",
    "          initial_year_number=initial_year_number, \n",
    "          initial_growth_rate=initial_growth_rate,\n",
    "          later_growth_rate=later_growth_rate,\n",
    "          permanent_growth_rate=permanent_growth_rate,\n",
    "          discount_rate=discount_rate,\n",
    "          cash_and_equivalents=cash_and_equivalents,\n",
    "          total_debt=total_debt,\n",
    "          outstanding_shares=outstanding_shares)\n",
    "print(f'the estimated DCF price for {ticker} is {price}')\n",
    "\n",
    "ebitda = 8707\n",
    "low_price = multiple_of_earnings_value(ebitda=ebitda, outstanding_shares=outstanding_shares, multiple=5)\n",
    "mid_price = multiple_of_earnings_value(ebitda=ebitda, outstanding_shares=outstanding_shares, multiple=8)\n",
    "high_price = multiple_of_earnings_value(ebitda=ebitda, outstanding_shares=outstanding_shares, multiple=15)\n",
    "print(f'the ME prices for {ticker} are: low: {low_price}, mid: {mid_price}, high: {high_price}')"
   ]
  },
  {
   "cell_type": "code",
   "execution_count": 3,
   "id": "bb3629e6-b695-4f38-961f-2ce3ebdeea7f",
   "metadata": {},
   "outputs": [
    {
     "name": "stdout",
     "output_type": "stream",
     "text": [
      "the estimated DCF price for TGT is 202.16330907123455\n",
      "the ME prices for TGT are: low: 71.4533321778317, mid: 114.32533148453072, high: 142.9066643556634\n"
     ]
    }
   ],
   "source": [
    "ticker = 'TGT'\n",
    "\n",
    "starting_free_cash_flow = 2500\n",
    "initial_year_number = 5\n",
    "initial_growth_rate = 0.04\n",
    "later_growth_rate = 0.025\n",
    "permanent_growth_rate = 0.025\n",
    "discount_rate = 0.05\n",
    "cash_and_equivalents = 2229.00\n",
    "total_debt=18777.00\n",
    "outstanding_shares = 461.56\n",
    "ebitda = 6596\n",
    "\n",
    "price = dcf_value(starting_free_cash_flow=starting_free_cash_flow, \n",
    "          initial_year_number=initial_year_number, \n",
    "          initial_growth_rate=initial_growth_rate,\n",
    "          later_growth_rate=later_growth_rate,\n",
    "          permanent_growth_rate=permanent_growth_rate,\n",
    "          discount_rate=discount_rate,\n",
    "          cash_and_equivalents=cash_and_equivalents,\n",
    "          total_debt=total_debt,\n",
    "          outstanding_shares=outstanding_shares)\n",
    "print(f'the estimated DCF price for {ticker} is {price}')\n",
    "\n",
    "# check from https://www.financecharts.com/stocks/TGT/value/ev-to-ebitda\n",
    "low_price = multiple_of_earnings_value(ebitda=ebitda, outstanding_shares=outstanding_shares, multiple=5)\n",
    "mid_price = multiple_of_earnings_value(ebitda=ebitda, outstanding_shares=outstanding_shares, multiple=8)\n",
    "high_price = multiple_of_earnings_value(ebitda=ebitda, outstanding_shares=outstanding_shares, multiple=10)\n",
    "print(f'the ME prices for {ticker} are: low: {low_price}, mid: {mid_price}, high: {high_price}')"
   ]
  },
  {
   "cell_type": "code",
   "execution_count": 5,
   "id": "8fa4b1dd-3b5d-40c3-b087-8027142a709b",
   "metadata": {},
   "outputs": [
    {
     "name": "stdout",
     "output_type": "stream",
     "text": [
      "the estimated DCF price for DIS is 51.84799182942915\n",
      "the ME prices for DIS are: low: 34.08793009284544, mid: 54.540688148552704, high: 115.8989623156745\n"
     ]
    }
   ],
   "source": [
    "ticker = 'DIS'\n",
    "\n",
    "starting_free_cash_flow = 3596.00\n",
    "initial_year_number = 5\n",
    "initial_growth_rate = 0.2\n",
    "later_growth_rate = 0.1\n",
    "permanent_growth_rate = 0.03\n",
    "discount_rate = 0.1\n",
    "cash_and_equivalents = 10399\n",
    "total_debt=48518.00\n",
    "outstanding_shares = 1831\n",
    "\n",
    "price = dcf_value(starting_free_cash_flow=starting_free_cash_flow, \n",
    "          initial_year_number=initial_year_number, \n",
    "          initial_growth_rate=initial_growth_rate,\n",
    "          later_growth_rate=later_growth_rate,\n",
    "          permanent_growth_rate=permanent_growth_rate,\n",
    "          discount_rate=discount_rate,\n",
    "          cash_and_equivalents=cash_and_equivalents,\n",
    "          total_debt=total_debt,\n",
    "          outstanding_shares=outstanding_shares)\n",
    "print(f'the estimated DCF price for {ticker} is {price}')\n",
    "\n",
    "ebitda = 12483\n",
    "low_price = multiple_of_earnings_value(ebitda=ebitda, outstanding_shares=outstanding_shares, multiple=5)\n",
    "mid_price = multiple_of_earnings_value(ebitda=ebitda, outstanding_shares=outstanding_shares, multiple=8)\n",
    "high_price = multiple_of_earnings_value(ebitda=ebitda, outstanding_shares=outstanding_shares, multiple=17)\n",
    "print(f'the ME prices for {ticker} are: low: {low_price}, mid: {mid_price}, high: {high_price}')"
   ]
  }
 ],
 "metadata": {
  "kernelspec": {
   "display_name": "Python 3 (ipykernel)",
   "language": "python",
   "name": "python3"
  },
  "language_info": {
   "codemirror_mode": {
    "name": "ipython",
    "version": 3
   },
   "file_extension": ".py",
   "mimetype": "text/x-python",
   "name": "python",
   "nbconvert_exporter": "python",
   "pygments_lexer": "ipython3",
   "version": "3.8.10"
  }
 },
 "nbformat": 4,
 "nbformat_minor": 5
}
